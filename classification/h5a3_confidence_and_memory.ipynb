{
 "cells": [
  {
   "cell_type": "code",
   "execution_count": 1,
   "metadata": {},
   "outputs": [],
   "source": [
    "### TO RUN\n",
    "import os\n",
    "\n",
    "import matplotlib.pyplot as plt\n",
    "import numpy as np\n",
    "import pickle\n",
    "\n",
    "\"Machine learning tools\"\n",
    "\n",
    "from classification.datasets import Dataset\n",
    "from classification.utils.audio_student import AudioUtil, Feature_vector_DS"
   ]
  },
  {
   "cell_type": "markdown",
   "metadata": {},
   "source": [
    "Useful functions to select, read and play the dataset sounds are provided in the ``classification`` directory. <br>\n",
    "\n",
    "As for the H1, you will have to fill some short pieces of code, as well as answer some questions. We already created cells for you to answer the questions to ensure you don't forget it ;). <br>\n",
    "You will find the zones to be briefly filled  with a ``### TO COMPLETE`` in the cells below.\n",
    "\n",
    "<font size=6 color=#009999> 3. Probability vector and memory  [~30min-1h] </font> <br>"
   ]
  },
  {
   "cell_type": "code",
   "execution_count": 2,
   "metadata": {},
   "outputs": [
    {
     "name": "stdout",
     "output_type": "stream",
     "text": [
      "background\n",
      "birds\n",
      "chainsaw\n",
      "fire\n",
      "fireworks-00\n",
      "fireworks-01\n",
      "fireworks-02\n",
      "fireworks-03\n",
      "fireworks-04\n",
      "fireworks-05\n",
      "fireworks-06\n",
      "fireworks-07\n",
      "fireworks-08\n",
      "fireworks-09\n",
      "fireworks-10\n",
      "fireworks-11\n",
      "fireworks-12\n",
      "fireworks-13\n",
      "fireworks-14\n",
      "fireworks-15\n",
      "fireworks-16\n",
      "fireworks-17\n",
      "fireworks-18\n",
      "fireworks-19\n",
      "fireworks-20\n",
      "fireworks-21\n",
      "fireworks-22\n",
      "fireworks-23\n",
      "fireworks-24\n",
      "fireworks-25\n",
      "fireworks-26\n",
      "fireworks-27\n",
      "fireworks-28\n",
      "fireworks-29\n",
      "fireworks-30\n",
      "fireworks-31\n",
      "fireworks-32\n",
      "fireworks-33\n",
      "fireworks-34\n",
      "fireworks-35\n",
      "fireworks-36\n",
      "fireworks-37\n",
      "fireworks-38\n",
      "fireworks-39\n",
      "gun-01\n",
      "gun-02\n",
      "gun-03\n",
      "gun-04\n",
      "gun-05\n",
      "gun-06\n",
      "gun-07\n",
      "gun-08\n",
      "gun-09\n",
      "gun-10\n",
      "gun-11\n",
      "gun-12\n",
      "gun-13\n",
      "gun-14\n",
      "gun-15\n",
      "gun-16\n",
      "gun-17\n",
      "gun-18\n",
      "gun-19\n",
      "gun-20\n",
      "gun-21\n",
      "gun-22\n",
      "gun-23\n",
      "gun-24\n",
      "gun-25\n",
      "gun-26\n",
      "gun-27\n",
      "gun-28\n",
      "gun-29\n",
      "gun-30\n",
      "gun-31\n",
      "gun-32\n",
      "gun-33\n",
      "gun-34\n",
      "gun-35\n",
      "gun-36\n",
      "gun-37\n",
      "gun-38\n",
      "gun-39\n",
      "handsaw\n",
      "helicopter\n"
     ]
    }
   ],
   "source": [
    "### TO RUN\n",
    "dataset = Dataset()\n",
    "classnames = dataset.list_classes()\n",
    "\n",
    "print(\"\\n\".join(classnames))"
   ]
  },
  {
   "cell_type": "code",
   "execution_count": 3,
   "metadata": {},
   "outputs": [],
   "source": [
    "### TO RUN\n",
    "fm_dir = \"data/feature_matrices/\"  # where to save the features matrices\n",
    "model_dir = \"data/models/\"  # where to save the models\n",
    "os.makedirs(fm_dir, exist_ok=True)\n",
    "os.makedirs(model_dir, exist_ok=True)"
   ]
  },
  {
   "cell_type": "markdown",
   "metadata": {},
   "source": [
    "<font size=5 color=#009999> 3.1. Probability vector </font> <br>\n",
    "\n",
    "A clear drawback of the models considered in ``hands_on_classif2_audio_student.ipynb`` is that they only output the most probable class, but do not provide any confidence estimate of this prediction. It is generally better to output a vector of probabilities for all the classes at each prediction, hence allowing the models to hesitate between different classes. \n",
    "Remember a vector of probability can be defined as \n",
    "\n",
    "\\begin{equation*}\n",
    "    \\mathbb P \\{ i \\} \\in [0,1], ~~\\sum_i \\mathbb P \\{ i \\} = 1. \n",
    "\\end{equation*}\n",
    "\n",
    "There are many ways to do so:\n",
    "\n",
    "- **Adapt the models**, e.g. for the ``KNN`` classifier, give the probability of class ``i`` as the ratio between the number of neighbours with label ``i`` and the total number of considered neighbours ``K``.\n",
    "- **Use other models**: a ``CNN`` classifier is suited for outputting probability values for each class.\n",
    "- **Compare with old predictions**: the probability of class ``i`` may simply be given as the ratio of its appearances in the (arbitrarily chosen) ``N`` last predictions.\n",
    "\n",
    "The last bullet implies the use of old predictions to compute a probability estimate. This leads to the notion of memory in the predictions, that we discuss in the second part of this notebook."
   ]
  },
  {
   "cell_type": "markdown",
   "metadata": {},
   "source": [
    "Let us start by creating a dataset ``myds`` and taking the model trained in ````hands_on_classif2_audio.ipynb````.\n",
    "\n",
    "Don't forget to normalize your feature vectors as well as reduce their dimensionality if you trained your model with such data."
   ]
  },
  {
   "cell_type": "code",
   "execution_count": 4,
   "metadata": {},
   "outputs": [],
   "source": [
    "### TO COMPLETE - Uncomment the following line\n",
    "model_dir = \"data/models/\"\n",
    "filename = \"model.pickle\"\n",
    "model_knn = pickle.load(open(model_dir + filename, \"rb\"))\n",
    "normalize = True\n",
    "pca = None\n",
    "\n",
    "\n",
    "\"Creation of the dataset\"\n",
    "myds = Feature_vector_DS(\n",
    "    dataset, Nft=512, nmel=20, duration=950, shift_pct=0.0, normalize=normalize, pca=pca\n",
    ")"
   ]
  },
  {
   "cell_type": "markdown",
   "metadata": {},
   "source": [
    "Open-Source code makes life easy! The ``KNeighborsClassifier`` from Sklearn already contains a ``predict_proba`` method. Start getting some intuition on this probability vector by playing with the chosen feature vector. <br>\n",
    "\n",
    "Run the following code many times by changing  ``cls_index``. <br>"
   ]
  },
  {
   "cell_type": "code",
   "execution_count": 5,
   "metadata": {},
   "outputs": [
    {
     "data": {
      "image/png": "[encoded data removed]",
      "text/plain": [
       "<Figure size 400x300 with 2 Axes>"
      ]
     },
     "metadata": {},
     "output_type": "display_data"
    },
    {
     "name": "stdout",
     "output_type": "stream",
     "text": [
      "Class predicted by KNN: birds\n"
     ]
    },
    {
     "ename": "ValueError",
     "evalue": "shape mismatch: objects cannot be broadcast to a single shape.  Mismatch is between arg 0 with shape (85,) and arg 1 with shape (5,).",
     "output_type": "error",
     "traceback": [
      "\u001b[1;31m---------------------------------------------------------------------------\u001b[0m",
      "\u001b[1;31mValueError\u001b[0m                                Traceback (most recent call last)",
      "Cell \u001b[1;32mIn[5], line 15\u001b[0m\n\u001b[0;32m     13\u001b[0m proba_knn \u001b[38;5;241m=\u001b[39m model_knn\u001b[38;5;241m.\u001b[39mpredict_proba(mat)\n\u001b[0;32m     14\u001b[0m plt\u001b[38;5;241m.\u001b[39mfigure()\n\u001b[1;32m---> 15\u001b[0m \u001b[43mplt\u001b[49m\u001b[38;5;241;43m.\u001b[39;49m\u001b[43mbar\u001b[49m\u001b[43m(\u001b[49m\u001b[43mclassnames\u001b[49m\u001b[43m,\u001b[49m\u001b[43m \u001b[49m\u001b[43mproba_knn\u001b[49m\u001b[43m[\u001b[49m\u001b[38;5;241;43m0\u001b[39;49m\u001b[43m]\u001b[49m\u001b[43m)\u001b[49m\n\u001b[0;32m     16\u001b[0m plt\u001b[38;5;241m.\u001b[39mtitle(\u001b[38;5;124m\"\u001b[39m\u001b[38;5;124mProbability of each class\u001b[39m\u001b[38;5;124m\"\u001b[39m)\n\u001b[0;32m     17\u001b[0m plt\u001b[38;5;241m.\u001b[39mshow()\n",
      "File \u001b[1;32m~\\Documents\\LELEC210X_GROUP_E\\.venv\\lib\\site-packages\\matplotlib\\pyplot.py:2956\u001b[0m, in \u001b[0;36mbar\u001b[1;34m(x, height, width, bottom, align, data, **kwargs)\u001b[0m\n\u001b[0;32m   2945\u001b[0m \u001b[38;5;129m@_copy_docstring_and_deprecators\u001b[39m(Axes\u001b[38;5;241m.\u001b[39mbar)\n\u001b[0;32m   2946\u001b[0m \u001b[38;5;28;01mdef\u001b[39;00m \u001b[38;5;21mbar\u001b[39m(\n\u001b[0;32m   2947\u001b[0m     x: \u001b[38;5;28mfloat\u001b[39m \u001b[38;5;241m|\u001b[39m ArrayLike,\n\u001b[1;32m   (...)\u001b[0m\n\u001b[0;32m   2954\u001b[0m     \u001b[38;5;241m*\u001b[39m\u001b[38;5;241m*\u001b[39mkwargs,\n\u001b[0;32m   2955\u001b[0m ) \u001b[38;5;241m-\u001b[39m\u001b[38;5;241m>\u001b[39m BarContainer:\n\u001b[1;32m-> 2956\u001b[0m     \u001b[38;5;28;01mreturn\u001b[39;00m gca()\u001b[38;5;241m.\u001b[39mbar(\n\u001b[0;32m   2957\u001b[0m         x,\n\u001b[0;32m   2958\u001b[0m         height,\n\u001b[0;32m   2959\u001b[0m         width\u001b[38;5;241m=\u001b[39mwidth,\n\u001b[0;32m   2960\u001b[0m         bottom\u001b[38;5;241m=\u001b[39mbottom,\n\u001b[0;32m   2961\u001b[0m         align\u001b[38;5;241m=\u001b[39malign,\n\u001b[0;32m   2962\u001b[0m         \u001b[38;5;241m*\u001b[39m\u001b[38;5;241m*\u001b[39m({\u001b[38;5;124m\"\u001b[39m\u001b[38;5;124mdata\u001b[39m\u001b[38;5;124m\"\u001b[39m: data} \u001b[38;5;28;01mif\u001b[39;00m data \u001b[38;5;129;01mis\u001b[39;00m \u001b[38;5;129;01mnot\u001b[39;00m \u001b[38;5;28;01mNone\u001b[39;00m \u001b[38;5;28;01melse\u001b[39;00m {}),\n\u001b[0;32m   2963\u001b[0m         \u001b[38;5;241m*\u001b[39m\u001b[38;5;241m*\u001b[39mkwargs,\n\u001b[0;32m   2964\u001b[0m     )\n",
      "File \u001b[1;32m~\\Documents\\LELEC210X_GROUP_E\\.venv\\lib\\site-packages\\matplotlib\\__init__.py:1473\u001b[0m, in \u001b[0;36m_preprocess_data.<locals>.inner\u001b[1;34m(ax, data, *args, **kwargs)\u001b[0m\n\u001b[0;32m   1470\u001b[0m \u001b[38;5;129m@functools\u001b[39m\u001b[38;5;241m.\u001b[39mwraps(func)\n\u001b[0;32m   1471\u001b[0m \u001b[38;5;28;01mdef\u001b[39;00m \u001b[38;5;21minner\u001b[39m(ax, \u001b[38;5;241m*\u001b[39margs, data\u001b[38;5;241m=\u001b[39m\u001b[38;5;28;01mNone\u001b[39;00m, \u001b[38;5;241m*\u001b[39m\u001b[38;5;241m*\u001b[39mkwargs):\n\u001b[0;32m   1472\u001b[0m     \u001b[38;5;28;01mif\u001b[39;00m data \u001b[38;5;129;01mis\u001b[39;00m \u001b[38;5;28;01mNone\u001b[39;00m:\n\u001b[1;32m-> 1473\u001b[0m         \u001b[38;5;28;01mreturn\u001b[39;00m func(\n\u001b[0;32m   1474\u001b[0m             ax,\n\u001b[0;32m   1475\u001b[0m             \u001b[38;5;241m*\u001b[39m\u001b[38;5;28mmap\u001b[39m(sanitize_sequence, args),\n\u001b[0;32m   1476\u001b[0m             \u001b[38;5;241m*\u001b[39m\u001b[38;5;241m*\u001b[39m{k: sanitize_sequence(v) \u001b[38;5;28;01mfor\u001b[39;00m k, v \u001b[38;5;129;01min\u001b[39;00m kwargs\u001b[38;5;241m.\u001b[39mitems()})\n\u001b[0;32m   1478\u001b[0m     bound \u001b[38;5;241m=\u001b[39m new_sig\u001b[38;5;241m.\u001b[39mbind(ax, \u001b[38;5;241m*\u001b[39margs, \u001b[38;5;241m*\u001b[39m\u001b[38;5;241m*\u001b[39mkwargs)\n\u001b[0;32m   1479\u001b[0m     auto_label \u001b[38;5;241m=\u001b[39m (bound\u001b[38;5;241m.\u001b[39marguments\u001b[38;5;241m.\u001b[39mget(label_namer)\n\u001b[0;32m   1480\u001b[0m                   \u001b[38;5;129;01mor\u001b[39;00m bound\u001b[38;5;241m.\u001b[39mkwargs\u001b[38;5;241m.\u001b[39mget(label_namer))\n",
      "File \u001b[1;32m~\\Documents\\LELEC210X_GROUP_E\\.venv\\lib\\site-packages\\matplotlib\\axes\\_axes.py:2520\u001b[0m, in \u001b[0;36mAxes.bar\u001b[1;34m(self, x, height, width, bottom, align, **kwargs)\u001b[0m\n\u001b[0;32m   2517\u001b[0m     \u001b[38;5;28;01mif\u001b[39;00m yerr \u001b[38;5;129;01mis\u001b[39;00m \u001b[38;5;129;01mnot\u001b[39;00m \u001b[38;5;28;01mNone\u001b[39;00m:\n\u001b[0;32m   2518\u001b[0m         yerr \u001b[38;5;241m=\u001b[39m \u001b[38;5;28mself\u001b[39m\u001b[38;5;241m.\u001b[39m_convert_dx(yerr, y0, y, \u001b[38;5;28mself\u001b[39m\u001b[38;5;241m.\u001b[39mconvert_yunits)\n\u001b[1;32m-> 2520\u001b[0m x, height, width, y, linewidth, hatch \u001b[38;5;241m=\u001b[39m \u001b[43mnp\u001b[49m\u001b[38;5;241;43m.\u001b[39;49m\u001b[43mbroadcast_arrays\u001b[49m\u001b[43m(\u001b[49m\n\u001b[0;32m   2521\u001b[0m \u001b[43m    \u001b[49m\u001b[38;5;66;43;03m# Make args iterable too.\u001b[39;49;00m\n\u001b[0;32m   2522\u001b[0m \u001b[43m    \u001b[49m\u001b[43mnp\u001b[49m\u001b[38;5;241;43m.\u001b[39;49m\u001b[43matleast_1d\u001b[49m\u001b[43m(\u001b[49m\u001b[43mx\u001b[49m\u001b[43m)\u001b[49m\u001b[43m,\u001b[49m\u001b[43m \u001b[49m\u001b[43mheight\u001b[49m\u001b[43m,\u001b[49m\u001b[43m \u001b[49m\u001b[43mwidth\u001b[49m\u001b[43m,\u001b[49m\u001b[43m \u001b[49m\u001b[43my\u001b[49m\u001b[43m,\u001b[49m\u001b[43m \u001b[49m\u001b[43mlinewidth\u001b[49m\u001b[43m,\u001b[49m\u001b[43m \u001b[49m\u001b[43mhatch\u001b[49m\u001b[43m)\u001b[49m\n\u001b[0;32m   2524\u001b[0m \u001b[38;5;66;03m# Now that units have been converted, set the tick locations.\u001b[39;00m\n\u001b[0;32m   2525\u001b[0m \u001b[38;5;28;01mif\u001b[39;00m orientation \u001b[38;5;241m==\u001b[39m \u001b[38;5;124m'\u001b[39m\u001b[38;5;124mvertical\u001b[39m\u001b[38;5;124m'\u001b[39m:\n",
      "File \u001b[1;32m~\\Documents\\LELEC210X_GROUP_E\\.venv\\lib\\site-packages\\numpy\\lib\\_stride_tricks_impl.py:551\u001b[0m, in \u001b[0;36mbroadcast_arrays\u001b[1;34m(subok, *args)\u001b[0m\n\u001b[0;32m    544\u001b[0m \u001b[38;5;66;03m# nditer is not used here to avoid the limit of 32 arrays.\u001b[39;00m\n\u001b[0;32m    545\u001b[0m \u001b[38;5;66;03m# Otherwise, something like the following one-liner would suffice:\u001b[39;00m\n\u001b[0;32m    546\u001b[0m \u001b[38;5;66;03m# return np.nditer(args, flags=['multi_index', 'zerosize_ok'],\u001b[39;00m\n\u001b[0;32m    547\u001b[0m \u001b[38;5;66;03m#                  order='C').itviews\u001b[39;00m\n\u001b[0;32m    549\u001b[0m args \u001b[38;5;241m=\u001b[39m \u001b[38;5;28mtuple\u001b[39m(np\u001b[38;5;241m.\u001b[39marray(_m, copy\u001b[38;5;241m=\u001b[39m\u001b[38;5;28;01mNone\u001b[39;00m, subok\u001b[38;5;241m=\u001b[39msubok) \u001b[38;5;28;01mfor\u001b[39;00m _m \u001b[38;5;129;01min\u001b[39;00m args)\n\u001b[1;32m--> 551\u001b[0m shape \u001b[38;5;241m=\u001b[39m \u001b[43m_broadcast_shape\u001b[49m\u001b[43m(\u001b[49m\u001b[38;5;241;43m*\u001b[39;49m\u001b[43margs\u001b[49m\u001b[43m)\u001b[49m\n\u001b[0;32m    553\u001b[0m \u001b[38;5;28;01mif\u001b[39;00m \u001b[38;5;28mall\u001b[39m(array\u001b[38;5;241m.\u001b[39mshape \u001b[38;5;241m==\u001b[39m shape \u001b[38;5;28;01mfor\u001b[39;00m array \u001b[38;5;129;01min\u001b[39;00m args):\n\u001b[0;32m    554\u001b[0m     \u001b[38;5;66;03m# Common case where nothing needs to be broadcasted.\u001b[39;00m\n\u001b[0;32m    555\u001b[0m     \u001b[38;5;28;01mreturn\u001b[39;00m args\n",
      "File \u001b[1;32m~\\Documents\\LELEC210X_GROUP_E\\.venv\\lib\\site-packages\\numpy\\lib\\_stride_tricks_impl.py:431\u001b[0m, in \u001b[0;36m_broadcast_shape\u001b[1;34m(*args)\u001b[0m\n\u001b[0;32m    426\u001b[0m \u001b[38;5;250m\u001b[39m\u001b[38;5;124;03m\"\"\"Returns the shape of the arrays that would result from broadcasting the\u001b[39;00m\n\u001b[0;32m    427\u001b[0m \u001b[38;5;124;03msupplied arrays against each other.\u001b[39;00m\n\u001b[0;32m    428\u001b[0m \u001b[38;5;124;03m\"\"\"\u001b[39;00m\n\u001b[0;32m    429\u001b[0m \u001b[38;5;66;03m# use the old-iterator because np.nditer does not handle size 0 arrays\u001b[39;00m\n\u001b[0;32m    430\u001b[0m \u001b[38;5;66;03m# consistently\u001b[39;00m\n\u001b[1;32m--> 431\u001b[0m b \u001b[38;5;241m=\u001b[39m \u001b[43mnp\u001b[49m\u001b[38;5;241;43m.\u001b[39;49m\u001b[43mbroadcast\u001b[49m\u001b[43m(\u001b[49m\u001b[38;5;241;43m*\u001b[39;49m\u001b[43margs\u001b[49m\u001b[43m[\u001b[49m\u001b[43m:\u001b[49m\u001b[38;5;241;43m32\u001b[39;49m\u001b[43m]\u001b[49m\u001b[43m)\u001b[49m\n\u001b[0;32m    432\u001b[0m \u001b[38;5;66;03m# unfortunately, it cannot handle 32 or more arguments directly\u001b[39;00m\n\u001b[0;32m    433\u001b[0m \u001b[38;5;28;01mfor\u001b[39;00m pos \u001b[38;5;129;01min\u001b[39;00m \u001b[38;5;28mrange\u001b[39m(\u001b[38;5;241m32\u001b[39m, \u001b[38;5;28mlen\u001b[39m(args), \u001b[38;5;241m31\u001b[39m):\n\u001b[0;32m    434\u001b[0m     \u001b[38;5;66;03m# ironically, np.broadcast does not properly handle np.broadcast\u001b[39;00m\n\u001b[0;32m    435\u001b[0m     \u001b[38;5;66;03m# objects (it treats them as scalars)\u001b[39;00m\n\u001b[0;32m    436\u001b[0m     \u001b[38;5;66;03m# use broadcasting to avoid allocating the full array\u001b[39;00m\n",
      "\u001b[1;31mValueError\u001b[0m: shape mismatch: objects cannot be broadcast to a single shape.  Mismatch is between arg 0 with shape (85,) and arg 1 with shape (5,)."
     ]
    },
    {
     "data": {
      "image/png": "[encoded data removed]",
      "text/plain": [
       "<Figure size 640x480 with 1 Axes>"
      ]
     },
     "metadata": {},
     "output_type": "display_data"
    }
   ],
   "source": [
    "### TO RUN\n",
    "cls_index = [\"birds\", 0]\n",
    "myds.display(cls_index)\n",
    "thisfv = myds.__getitem__(cls_index).reshape(-1)\n",
    "\n",
    "# this artefact is necessary because the 'predict' function expects a matrix_like input.\n",
    "mat = np.zeros((2, len(thisfv)))\n",
    "mat[0] = thisfv\n",
    "\n",
    "prediction_knn = model_knn.predict(mat)\n",
    "print(\"Class predicted by KNN:\", prediction_knn[0])\n",
    "\n",
    "proba_knn = model_knn.predict_proba(mat)\n",
    "plt.figure()\n",
    "plt.bar(classnames, proba_knn[0])\n",
    "plt.title(\"Probability of each class\")\n",
    "plt.show()"
   ]
  },
  {
   "cell_type": "markdown",
   "metadata": {},
   "source": [
    "**Question**:\n",
    "When the classifier miss-predicts, how distributed is the probability vector? Is it good news? How can we exploit that probability distribution for the prediction?"
   ]
  },
  {
   "cell_type": "code",
   "execution_count": 13,
   "metadata": {},
   "outputs": [],
   "source": [
    "### TO COMPLETE"
   ]
  },
  {
   "cell_type": "markdown",
   "metadata": {},
   "source": [
    "<font size=6 color=#009999> 3.2. Memory </font> <br>\n",
    "\n",
    "No matter if the predictions are one class only or probability vectors, as it is natural that consecutive feature vectors belong to the same class if the sound type changes slowlier than the duration of a feature vector, it can be helpful to link consecutive predictions and see how similar they are to either strengthen or decrease our confidence in the current guess. <br>\n",
    "\n",
    "Here, we will compare the predictions made on consecutive feature vectors belonging to the same 5s-long sound. \n",
    "Run the following code with different ``class_id``'s and different ``num``."
   ]
  },
  {
   "cell_type": "code",
   "execution_count": 12,
   "metadata": {},
   "outputs": [
    {
     "ename": "NameError",
     "evalue": "name 'folder_path' is not defined",
     "output_type": "error",
     "traceback": [
      "\u001b[1;31m---------------------------------------------------------------------------\u001b[0m",
      "\u001b[1;31mNameError\u001b[0m                                 Traceback (most recent call last)",
      "Cell \u001b[1;32mIn[12], line 23\u001b[0m\n\u001b[0;32m     21\u001b[0m     fv \u001b[38;5;241m=\u001b[39m sgram\u001b[38;5;241m.\u001b[39mreshape(\u001b[38;5;241m-\u001b[39m\u001b[38;5;241m1\u001b[39m)\n\u001b[0;32m     22\u001b[0m     \u001b[38;5;66;03m# saving the mel spectrogram in .npy format\u001b[39;00m\n\u001b[1;32m---> 23\u001b[0m     np\u001b[38;5;241m.\u001b[39msave(\u001b[43mfolder_path\u001b[49m \u001b[38;5;241m+\u001b[39m classnames[class_index] \u001b[38;5;241m+\u001b[39m \u001b[38;5;28mstr\u001b[39m(audio_index) \u001b[38;5;241m+\u001b[39m \u001b[38;5;124m\"\u001b[39m\u001b[38;5;124m_\u001b[39m\u001b[38;5;124m\"\u001b[39m \u001b[38;5;241m+\u001b[39m \u001b[38;5;28mstr\u001b[39m(window) \u001b[38;5;241m+\u001b[39m \u001b[38;5;124m\"\u001b[39m\u001b[38;5;124m.npy\u001b[39m\u001b[38;5;124m\"\u001b[39m, fv)\n\u001b[0;32m     24\u001b[0m     \u001b[38;5;28mprint\u001b[39m(\u001b[38;5;124m\"\u001b[39m\u001b[38;5;124mcoucou\u001b[39m\u001b[38;5;124m\"\u001b[39m)\n\u001b[0;32m     26\u001b[0m \u001b[38;5;124m\"\u001b[39m\u001b[38;5;124mMean bar chart\u001b[39m\u001b[38;5;124m\"\u001b[39m\n",
      "\u001b[1;31mNameError\u001b[0m: name 'folder_path' is not defined"
     ]
    }
   ],
   "source": [
    "### TO RUN\n",
    "model_dir = \"data/models/\"\n",
    "filename = \"model.pickle\"\n",
    "model_knn = pickle.load(open(model_dir + filename, \"rb\"))\n",
    "\n",
    "num = 6  # 0 (default), 1, ..., 39\n",
    "\n",
    "sound = dataset[\"helicopter\", num]\n",
    "audio = AudioUtil.open(sound)\n",
    "audio = AudioUtil.resample(audio, 11025)\n",
    "AudioUtil.play(audio)\n",
    "\n",
    "\"Bar charts for each window\"\n",
    "n_win = 5\n",
    "probs = np.zeros((n_win, len(classnames)))\n",
    "for window in range(n_win):\n",
    "    sub_aud = (audio[0][window * 11025 :], audio[1])\n",
    "    sub_aud = AudioUtil.pad_trunc(sub_aud, 950)\n",
    "    sgram = AudioUtil.melspectrogram(sub_aud, Nmel=20, Nft=512)\n",
    "    ncol = int(1000 * 11025 / (1e3 * 512))\n",
    "    sgram = sgram[:, :ncol]\n",
    "    fv = sgram.reshape(-1)\n",
    "    fv = fv / np.linalg.norm(fv)\n",
    "\n",
    "    ### TO COMPLETE - Eventually normalize and reduce feature vector dimensionality\n",
    "\n",
    "    probs[window, :] = model_knn.predict_proba([fv])[0]\n",
    "\n",
    "\"Mean bar chart\"\n",
    "plt.figure()\n",
    "for window in range(n_win):\n",
    "    plt.bar(\n",
    "        np.arange(len(classnames)) * 2 * n_win + window,\n",
    "        probs[window, :],\n",
    "        alpha=0.9,\n",
    "        label=f\"Window {window}\",\n",
    "    )\n",
    "plt.legend()\n",
    "plt.gca().set_xticks(np.arange(len(classnames)) * 2 * n_win + 2)\n",
    "plt.gca().set_xticklabels(classnames)\n",
    "plt.show()\n",
    "\n",
    "plt.figure()\n",
    "plt.bar(np.arange(len(classnames)), np.mean(probs, axis=0))\n",
    "plt.gca().set_xticks(np.arange(len(classnames)))\n",
    "plt.gca().set_xticklabels(classnames)\n",
    "plt.show()"
   ]
  },
  {
   "cell_type": "markdown",
   "metadata": {},
   "source": [
    "### Question:\n",
    "Are the bar plots similar between the 5 windows of the same 5s-long sound? With the default sound, how often does the right class win?"
   ]
  },
  {
   "cell_type": "code",
   "execution_count": 22,
   "metadata": {},
   "outputs": [],
   "source": [
    "### TO COMPLETE\n",
    "# with the default sound, the model is right 80% of the time, this plot is interesting as we can visualise when the model is confidant\n",
    "# and when it is confused"
   ]
  },
  {
   "cell_type": "markdown",
   "metadata": {},
   "source": [
    "### If it is relevant to combine $N$ consecutive feature vectors, there are many ways to output a prediction from it:\n",
    "- **Naive**: select the class that has the highest probability among all the considered feature vectors.\n",
    "- **Majority voting**: simply select the class that appears most often as the maximum probability of a feature vector.\n",
    "- **Average the feature representation**: compute the average of all feature vectors and classify from this average.\n",
    "- **Maximum Likelihood**: take a probabilistic approach and consider selecting class $i$ as\n",
    "    $$\n",
    "        \\text{argmax}_i~ \\log \\bigg(\\prod_{n=0}^{N-1} P(y[n]=i) \\bigg)\n",
    "        = \\text{argmax}_i~ \\sum_{n=0}^{N-1} \\log P(y[n]=i)\n",
    "    $$\n",
    "    with $y[n]$ the model prediction for the feature vector $n$.\n",
    "\n",
    "It will be part of your work to decide how you want to exploit the time information in your predictions."
   ]
  },
  {
   "cell_type": "markdown",
   "metadata": {},
   "source": [
    "Now you have all the necessary material to test a new classification model and make some objective analysis of its performances. <br>\n",
    "Follow the instructions on Moodle [written here](https://moodle.uclouvain.be/mod/assign/view.php?id=204607) to see what is expected in your ``fifth report (R5)``. <br>\n",
    "A lot of other classification models are already implemented by SKlearn, check the [SKlearn API](https://scikit-learn.org/stable/supervised_learning.html#supervised-learning). Don't hesitate to read some opinions and discussions on the forums or even articles to help you in the model choice. The most motivated of you are even allowed to give a try to more than one additional model, it is time smartly invested for the upcoming weeks of this project! Although we expect only one characterization in the ``R5``.\n",
    "\n",
    "Also, don't hesitate to get information from the Internet to learn how people use to deal with sound classification. We mention for example this idea of transfer learning that could be interesting for you in the second semester: https://www.youtube.com/watch?v=uCGROOUO_wY&t=1s "
   ]
  },
  {
   "cell_type": "code",
   "execution_count": 23,
   "metadata": {},
   "outputs": [],
   "source": [
    "import os\n",
    "import matplotlib.pyplot as plt\n",
    "import numpy as np\n",
    "import pickle\n",
    "from classification.datasets import Dataset\n",
    "from classification.utils.audio_student import AudioUtil, Feature_vector_DS\n",
    "\n",
    "\n",
    "#need .pickle in the same directory\n",
    "#and src folder stored inside LELEC210X_GROUP_E/classification\n",
    "\n",
    "\n",
    "model_dir = \"data/models/\"\n",
    "filename = \"model.pickle\"\n",
    "model = pickle.load(open(model_dir + filename, \"rb\"))\n",
    "\n",
    "\n",
    "def mel_vect_to_proba(list_mel_vec):\n",
    "    \"\"\" \n",
    "    takes a list of 10 mel vectors and returns the class probabilities and the predicted class using average voting.\n",
    "    \"\"\"\n",
    "    probs = np.zeros((10,5))\n",
    "    for i in range(10):\n",
    "        current_vec = list_mel_vec[i]\n",
    "        current_vec = np.array(current_vec)\n",
    "        normalized = current_vec / np.linalg.norm(current_vec)\n",
    "        probs[i] = model.predict_proba([normalized]) # class are in this order : birds, chainsaw, fire, handsaw, helicopter\n",
    "    mean_probs = np.mean(probs, axis=0)\n",
    "    classes = [\"birds\", \"chainsaw\", \"fire\", \"handsaw\", \"helicopter\"]\n",
    "    predicted_class = classes[np.argmax(mean_probs)]\n",
    "    return mean_probs, predicted_class"
   ]
  },
  {
   "cell_type": "code",
   "execution_count": 24,
   "metadata": {},
   "outputs": [],
   "source": [
    "# plotting all the spectrogram"
   ]
  },
  {
   "cell_type": "code",
   "execution_count": 25,
   "metadata": {},
   "outputs": [
    {
     "name": "stdout",
     "output_type": "stream",
     "text": [
      "birds\n",
      "chainsaw\n",
      "fire\n",
      "handsaw\n",
      "helicopter\n"
     ]
    }
   ],
   "source": [
    "### TO RUN\n",
    "import os\n",
    "\n",
    "import matplotlib.pyplot as plt\n",
    "import numpy as np\n",
    "\n",
    "\"Machine learning tools\"\n",
    "import pickle\n",
    "\n",
    "from sklearn.decomposition import PCA\n",
    "from sklearn.discriminant_analysis import LinearDiscriminantAnalysis as LDA\n",
    "from sklearn.model_selection import StratifiedKFold, train_test_split\n",
    "from sklearn.neighbors import KNeighborsClassifier\n",
    "\n",
    "from classification.datasets import Dataset\n",
    "from classification.utils.audio_student import AudioUtil, Feature_vector_DS\n",
    "from classification.utils.plots import (\n",
    "    plot_decision_boundaries,\n",
    "    plot_specgram,\n",
    "    show_confusion_matrix,\n",
    ")\n",
    "from classification.utils.utils import accuracy\n",
    "\n",
    "### TO RUN\n",
    "dataset = Dataset()\n",
    "classnames = dataset.list_classes()\n",
    "\n",
    "print(\"\\n\".join(classnames))\n",
    "\n",
    "### TO RUN\n",
    "fm_dir = \"data/feature_matrices/\"  # where to save the features matrices\n",
    "model_dir = \"data/models/\"  # where to save the models\n",
    "os.makedirs(fm_dir, exist_ok=True)\n",
    "os.makedirs(model_dir, exist_ok=True)\n",
    "\n",
    "### TO RUN\n",
    "\n",
    "\"Creation of the dataset\"\n",
    "myds = Feature_vector_DS(dataset, Nft=512, nmel=20, duration=950, shift_pct=0.0)\n",
    "\n",
    "\"Some attributes...\"\n",
    "myds.nmel\n",
    "myds.duration\n",
    "myds.shift_pct\n",
    "myds.sr\n",
    "myds.data_aug\n",
    "myds.ncol\n",
    "myds.shift_pct = 1\n"
   ]
  },
  {
   "cell_type": "code",
   "execution_count": 28,
   "metadata": {},
   "outputs": [
    {
     "ename": "RuntimeError",
     "evalue": "Can not put single artist in more than one figure",
     "output_type": "error",
     "traceback": [
      "\u001b[1;31m---------------------------------------------------------------------------\u001b[0m",
      "\u001b[1;31mRuntimeError\u001b[0m                              Traceback (most recent call last)",
      "Cell \u001b[1;32mIn[28], line 71\u001b[0m\n\u001b[0;32m     67\u001b[0m y2 \u001b[38;5;241m=\u001b[39m y_min \u001b[38;5;241m+\u001b[39m (y_max \u001b[38;5;241m-\u001b[39m y_min) \u001b[38;5;241m*\u001b[39m (y2_pct \u001b[38;5;241m/\u001b[39m \u001b[38;5;241m100\u001b[39m)\n\u001b[0;32m     69\u001b[0m \u001b[38;5;66;03m# Ajouter un cadre\u001b[39;00m\n\u001b[0;32m     70\u001b[0m \u001b[38;5;66;03m# rect = Rectangle((x1, y1), x2 - x1, y2 - y1, linewidth=2, edgecolor='green', facecolor='none')\u001b[39;00m\n\u001b[1;32m---> 71\u001b[0m \u001b[43max2\u001b[49m\u001b[38;5;241;43m.\u001b[39;49m\u001b[43madd_patch\u001b[49m\u001b[43m(\u001b[49m\u001b[43mrect\u001b[49m\u001b[43m)\u001b[49m\n\u001b[0;32m     73\u001b[0m \u001b[38;5;66;03m# Dimensions du cadre en pourcentage\u001b[39;00m\n\u001b[0;32m     74\u001b[0m step \u001b[38;5;241m=\u001b[39m \u001b[38;5;241m500\u001b[39m\u001b[38;5;241m/\u001b[39m\u001b[38;5;241m107\u001b[39m\n",
      "File \u001b[1;32m~\\Documents\\LELEC210X_GROUP_E\\.venv\\lib\\site-packages\\matplotlib\\axes\\_base.py:2411\u001b[0m, in \u001b[0;36m_AxesBase.add_patch\u001b[1;34m(self, p)\u001b[0m\n\u001b[0;32m   2407\u001b[0m \u001b[38;5;250m\u001b[39m\u001b[38;5;124;03m\"\"\"\u001b[39;00m\n\u001b[0;32m   2408\u001b[0m \u001b[38;5;124;03mAdd a `.Patch` to the Axes; return the patch.\u001b[39;00m\n\u001b[0;32m   2409\u001b[0m \u001b[38;5;124;03m\"\"\"\u001b[39;00m\n\u001b[0;32m   2410\u001b[0m _api\u001b[38;5;241m.\u001b[39mcheck_isinstance(mpatches\u001b[38;5;241m.\u001b[39mPatch, p\u001b[38;5;241m=\u001b[39mp)\n\u001b[1;32m-> 2411\u001b[0m \u001b[38;5;28;43mself\u001b[39;49m\u001b[38;5;241;43m.\u001b[39;49m\u001b[43m_set_artist_props\u001b[49m\u001b[43m(\u001b[49m\u001b[43mp\u001b[49m\u001b[43m)\u001b[49m\n\u001b[0;32m   2412\u001b[0m \u001b[38;5;28;01mif\u001b[39;00m p\u001b[38;5;241m.\u001b[39mget_clip_path() \u001b[38;5;129;01mis\u001b[39;00m \u001b[38;5;28;01mNone\u001b[39;00m:\n\u001b[0;32m   2413\u001b[0m     p\u001b[38;5;241m.\u001b[39mset_clip_path(\u001b[38;5;28mself\u001b[39m\u001b[38;5;241m.\u001b[39mpatch)\n",
      "File \u001b[1;32m~\\Documents\\LELEC210X_GROUP_E\\.venv\\lib\\site-packages\\matplotlib\\axes\\_base.py:1176\u001b[0m, in \u001b[0;36m_AxesBase._set_artist_props\u001b[1;34m(self, a)\u001b[0m\n\u001b[0;32m   1174\u001b[0m \u001b[38;5;28;01mdef\u001b[39;00m \u001b[38;5;21m_set_artist_props\u001b[39m(\u001b[38;5;28mself\u001b[39m, a):\n\u001b[0;32m   1175\u001b[0m \u001b[38;5;250m    \u001b[39m\u001b[38;5;124;03m\"\"\"Set the boilerplate props for artists added to Axes.\"\"\"\u001b[39;00m\n\u001b[1;32m-> 1176\u001b[0m     \u001b[43ma\u001b[49m\u001b[38;5;241;43m.\u001b[39;49m\u001b[43mset_figure\u001b[49m\u001b[43m(\u001b[49m\u001b[38;5;28;43mself\u001b[39;49m\u001b[38;5;241;43m.\u001b[39;49m\u001b[43mfigure\u001b[49m\u001b[43m)\u001b[49m\n\u001b[0;32m   1177\u001b[0m     \u001b[38;5;28;01mif\u001b[39;00m \u001b[38;5;129;01mnot\u001b[39;00m a\u001b[38;5;241m.\u001b[39mis_transform_set():\n\u001b[0;32m   1178\u001b[0m         a\u001b[38;5;241m.\u001b[39mset_transform(\u001b[38;5;28mself\u001b[39m\u001b[38;5;241m.\u001b[39mtransData)\n",
      "File \u001b[1;32m~\\Documents\\LELEC210X_GROUP_E\\.venv\\lib\\site-packages\\matplotlib\\artist.py:744\u001b[0m, in \u001b[0;36mArtist.set_figure\u001b[1;34m(self, fig)\u001b[0m\n\u001b[0;32m    738\u001b[0m \u001b[38;5;66;03m# if we currently have a figure (the case of both `self.figure`\u001b[39;00m\n\u001b[0;32m    739\u001b[0m \u001b[38;5;66;03m# and *fig* being none is taken care of above) we then user is\u001b[39;00m\n\u001b[0;32m    740\u001b[0m \u001b[38;5;66;03m# trying to change the figure an artist is associated with which\u001b[39;00m\n\u001b[0;32m    741\u001b[0m \u001b[38;5;66;03m# is not allowed for the same reason as adding the same instance\u001b[39;00m\n\u001b[0;32m    742\u001b[0m \u001b[38;5;66;03m# to more than one Axes\u001b[39;00m\n\u001b[0;32m    743\u001b[0m \u001b[38;5;28;01mif\u001b[39;00m \u001b[38;5;28mself\u001b[39m\u001b[38;5;241m.\u001b[39mfigure \u001b[38;5;129;01mis\u001b[39;00m \u001b[38;5;129;01mnot\u001b[39;00m \u001b[38;5;28;01mNone\u001b[39;00m:\n\u001b[1;32m--> 744\u001b[0m     \u001b[38;5;28;01mraise\u001b[39;00m \u001b[38;5;167;01mRuntimeError\u001b[39;00m(\u001b[38;5;124m\"\u001b[39m\u001b[38;5;124mCan not put single artist in \u001b[39m\u001b[38;5;124m\"\u001b[39m\n\u001b[0;32m    745\u001b[0m                        \u001b[38;5;124m\"\u001b[39m\u001b[38;5;124mmore than one figure\u001b[39m\u001b[38;5;124m\"\u001b[39m)\n\u001b[0;32m    746\u001b[0m \u001b[38;5;28mself\u001b[39m\u001b[38;5;241m.\u001b[39mfigure \u001b[38;5;241m=\u001b[39m fig\n\u001b[0;32m    747\u001b[0m \u001b[38;5;28;01mif\u001b[39;00m \u001b[38;5;28mself\u001b[39m\u001b[38;5;241m.\u001b[39mfigure \u001b[38;5;129;01mand\u001b[39;00m \u001b[38;5;28mself\u001b[39m\u001b[38;5;241m.\u001b[39mfigure \u001b[38;5;129;01mis\u001b[39;00m \u001b[38;5;129;01mnot\u001b[39;00m \u001b[38;5;28mself\u001b[39m:\n",
      "\u001b[1;31mRuntimeError\u001b[0m: Can not put single artist in more than one figure"
     ]
    },
    {
     "data": {
      "image/png": "[encoded data removed]",
      "text/plain": [
       "<Figure size 1500x400 with 1 Axes>"
      ]
     },
     "metadata": {},
     "output_type": "display_data"
    }
   ],
   "source": [
    "from matplotlib.patches import Rectangle\n",
    "import numpy as np\n",
    "from scipy.signal import correlate2d\n",
    "\n",
    "def find_melvector_in_reference(reference, target):\n",
    "    \"\"\"\n",
    "    Searches for the best match of the target melvector in the reference matrix.\n",
    "    \n",
    "    :param reference: np.ndarray, the reference melvector matrix (n x 20).\n",
    "    :param target: np.ndarray, the melvector to locate (20 x 20).\n",
    "    :return: tuple (best_row, best_col, min_difference), location and score of the best match.\n",
    "    \"\"\"\n",
    "    # Ensure both arrays are numpy arrays\n",
    "    reference = np.array(reference)\n",
    "    target = np.array(target)\n",
    "\n",
    "    # Get dimensions\n",
    "    ref_rows, ref_cols = reference.shape\n",
    "    target_rows, target_cols = target.shape\n",
    "\n",
    "    if ref_cols != target_cols:\n",
    "        raise ValueError(\"Reference and target must have the same number of columns (20).\")\n",
    "\n",
    "    best_score = float('inf')  # Smaller is better for MSE\n",
    "    best_row = -1\n",
    "\n",
    "    # Sliding window over the reference matrix\n",
    "    for i in range(ref_rows - target_rows + 1):\n",
    "        # Extract a window from the reference\n",
    "        window = reference[i:i+target_rows, :]\n",
    "        # Calculate Mean Squared Error (MSE) between the window and the target\n",
    "        mse = np.mean((window - target) ** 2)\n",
    "        if mse < best_score:\n",
    "            best_score = mse\n",
    "            best_row = i\n",
    "\n",
    "    return best_row, best_score\n",
    "\n",
    "myclass = \"helicopter\"\n",
    "cls_index = [myclass, 0]\n",
    "sound = dataset.__getitem__(cls_index)\n",
    "name = dataset.__getname__(cls_index)\n",
    "audio = AudioUtil.open(sound)\n",
    "audio2 = AudioUtil.resample(audio, 11025)\n",
    "melspec = AudioUtil.melspectrogram(audio2, fs2=11025)\n",
    "norm = np.linalg.norm(melspec, 'fro')\n",
    "melspec = melspec/norm\n",
    "fig = plt.figure(figsize=(15, 4))\n",
    "ax2 = fig.add_axes([0.38, 0.05, 0.28, 0.9])\n",
    "\n",
    "\n",
    "# Dimensions du cadre en pourcentage\n",
    "step = 500/107\n",
    "stepy = 2000/20\n",
    "delta = 22\n",
    "start = 75\n",
    "x1_pct, y1_pct = step*start, 0  # Coordonnées en pourcentage (exprimées entre 0 et 100)\n",
    "x2_pct, y2_pct = step*(start+delta), 2000\n",
    "\n",
    "# Convertir les pourcentages en dimensions réelles\n",
    "x_min, x_max = ax2.get_xlim()  # Limites réelles de l'axe x\n",
    "y_min, y_max = ax2.get_ylim()  # Limites réelles de l'axe y\n",
    "\n",
    "x1 = x_min + (x_max - x_min) * (x1_pct / 100)\n",
    "x2 = x_min + (x_max - x_min) * (x2_pct / 100)\n",
    "y1 = y_min + (y_max - y_min) * (y1_pct / 100)\n",
    "y2 = y_min + (y_max - y_min) * (y2_pct / 100)\n",
    "\n",
    "# Ajouter un cadre\n",
    "rect = Rectangle((x1, y1), x2 - x1, y2 - y1, linewidth=2, edgecolor='green', facecolor='none')\n",
    "ax2.add_patch(rect)\n",
    "\n",
    "# Dimensions du cadre en pourcentage\n",
    "step = 500/107\n",
    "stepy = 2000/20\n",
    "delta = 22\n",
    "start = 10\n",
    "x1_pct, y1_pct = step*start, 0  # Coordonnées en pourcentage (exprimées entre 0 et 100)\n",
    "x2_pct, y2_pct = step*(start+delta), 2000\n",
    "\n",
    "# Convertir les pourcentages en dimensions réelles\n",
    "x_min, x_max = ax2.get_xlim()  # Limites réelles de l'axe x\n",
    "y_min, y_max = ax2.get_ylim()  # Limites réelles de l'axe y\n",
    "\n",
    "x1 = x_min + (x_max - x_min) * (x1_pct / 100)\n",
    "x2 = x_min + (x_max - x_min) * (x2_pct / 100)\n",
    "y1 = y_min + (y_max - y_min) * (y1_pct / 100)\n",
    "y2 = y_min + (y_max - y_min) * (y2_pct / 100)\n",
    "\n",
    "# Ajouter un cadre\n",
    "rect = Rectangle((x1, y1), x2 - x1, y2 - y1, linewidth=2, edgecolor='purple', facecolor='none')\n",
    "ax2.add_patch(rect)\n",
    "\n",
    "plot_specgram(melspec, ax2, is_mel=True, tf=len(audio2[0]) / audio2[1])\n",
    "plt.savefig(myclass+\"-wav.pdf\")"
   ]
  },
  {
   "cell_type": "code",
   "execution_count": 27,
   "metadata": {},
   "outputs": [
    {
     "data": {
      "image/png": "[encoded data removed]",
      "text/plain": [
       "<Figure size 1500x400 with 2 Axes>"
      ]
     },
     "metadata": {},
     "output_type": "display_data"
    }
   ],
   "source": [
    "myclass = \"helicopter\"\n",
    "filename = \"../melvecs/jack/\"+myclass+\"_jack.npy\"  # Remplace par le chemin réel de ton fichier\n",
    "data = np.load(filename, allow_pickle=True)  # Utiliser allow_pickle=True si le fichier contient des objets Python\n",
    "data = data.item()\n",
    "melspec = data[\"melvec\"]  # Récupérer la matrice\n",
    "norm = np.linalg.norm(melspec, 'fro')\n",
    "melspec = melspec/norm\n",
    "fig = plt.figure(figsize=(15, 4))\n",
    "ax2 = fig.add_axes([0.38, 0.05, 0.28, 0.9])\n",
    "\n",
    "\n",
    "plot_specgram(melspec, ax2, is_mel=True, tf=len(audio2[0]) / audio2[1])\n",
    "plt.savefig(myclass+\"-jack.pdf\")"
   ]
  },
  {
   "cell_type": "code",
   "execution_count": 29,
   "metadata": {},
   "outputs": [
    {
     "data": {
      "image/png": "[encoded data removed]",
      "text/plain": [
       "<Figure size 1500x400 with 2 Axes>"
      ]
     },
     "metadata": {},
     "output_type": "display_data"
    }
   ],
   "source": [
    "myclass = \"helicopter\"\n",
    "filename = \"melvecs/birds/data_aquired_birds_0_0.npy\"  # Remplace par le chemin réel de ton fichier\n",
    "data = np.load(filename, allow_pickle=True)  # Utiliser allow_pickle=True si le fichier contient des objets Python\n",
    "melspec = data\n",
    "fig = plt.figure(figsize=(15, 4))\n",
    "ax2 = fig.add_axes([0.38, 0.05, 0.28, 0.9])\n",
    "melspec = melspec.reshape(20, 20)\n",
    "melspec = np.rot90(melspec, k=-1)\n",
    "\n",
    "# Dimensions du cadre en pourcentage\n",
    "step = 500/107\n",
    "stepy = 2000/20\n",
    "x1_pct, y1_pct = step*25, 0  # Coordonnées en pourcentage (exprimées entre 0 et 100)\n",
    "x2_pct, y2_pct = step*85, 2000\n",
    "\n",
    "\n",
    "# plot_specgram(melspec, ax2, is_mel=True, tf=len(audio2[0]) / audio2[1])\n",
    "# plt.savefig(myclass+\"-mic.pdf\")\n",
    "\n",
    "\n",
    "#-----------------------------------------------------------------------------------\n",
    "num = 0  # 0 (default), 1, ..., 39\n",
    "\n",
    "sound = dataset[\"birds\", num]\n",
    "audio = AudioUtil.open(sound)\n",
    "audio = AudioUtil.resample(audio, 11025)\n",
    "\n",
    "sgram = AudioUtil.melspectrogram(audio, Nmel=20)\n",
    "plot_specgram(sgram, ax2, is_mel=True, tf=len(audio2[0]) / audio2[1])\n",
    "plt.savefig(\"birds_mic.png\")"
   ]
  },
  {
   "cell_type": "code",
   "execution_count": null,
   "metadata": {},
   "outputs": [],
   "source": [
    "from sklearn.svm import SVC\n",
    "# X = matrix with 12*5 mel vectors\n",
    "X = np.zeros((12*5, 400))\n",
    "\n",
    "classes = [\"birds\", \"chainsaw\", \"handsaw\", \"fire\", \"helicopter\"]\n",
    "index = 0\n",
    "\n",
    "for cls in classes:\n",
    "    filenames = [\n",
    "        f\"../melvecs/{cls}/{cls}_1.npy\",\n",
    "        f\"../melvecs/{cls}/{cls}_1n.npy\",\n",
    "        f\"../melvecs/{cls}/{cls}_2.npy\",\n",
    "        f\"../melvecs/{cls}/{cls}_2n.npy\",\n",
    "        f\"../melvecs/{cls}/{cls}_3.npy\",\n",
    "        f\"../melvecs/{cls}/{cls}_3n.npy\",\n",
    "        f\"../melvecs/{cls}/{cls}_4.npy\",\n",
    "        f\"../melvecs/{cls}/{cls}_4n.npy\",\n",
    "        f\"../melvecs/{cls}/{cls}_6.npy\",\n",
    "        f\"../melvecs/{cls}/{cls}_6n.npy\",\n",
    "        f\"../melvecs/{cls}/{cls}_7.npy\",\n",
    "        f\"../melvecs/{cls}/{cls}_7n.npy\"\n",
    "    ]\n",
    "\n",
    "    for filename in filenames:\n",
    "        data = np.load(filename, allow_pickle=True)  # Utiliser allow_pickle=True si le fichier contient des objets Python\n",
    "        data = data.item()\n",
    "        melspec = data[\"melvec\"]  # Récupérer la matrice\n",
    "        fv = melspec.flatten()  # feature vector\n",
    "        fv = fv.astype(np.float64)\n",
    "        fv /= np.linalg.norm(fv)\n",
    "        X[index] = fv\n",
    "        index += 1\n",
    "        \n",
    "# y = classes of the mel vectors so 12 * birds, 12 * chainsaw, 12 * handsaw, 12 * fire, 12 * helicopter\n",
    "y = np.array([\"birds\"] * 12 + [\"chainsaw\"] * 12 + [\"handsaw\"] * 12 + [\"fire\"] * 12 + [\"helicopter\"] * 12)\n",
    "\n",
    "best_C = 100\n",
    "best_gamma = 0.01\n",
    "best_kernel = \"rbf\"\n",
    "model = SVC(C=best_C, gamma=best_gamma, kernel=best_kernel, probability=True)\n",
    "model.fit(X,y)\n",
    "\n",
    "\n",
    "# Create the test set\n",
    "X_test = np.zeros((3*5, 400))\n",
    "index = 0\n",
    "\n",
    "for cls in classes:\n",
    "    filenames = [\n",
    "        f\"../melvecs/{cls}_test/{cls}_8.npy\",\n",
    "        f\"../melvecs/{cls}_test/{cls}_9.npy\",\n",
    "        f\"../melvecs/{cls}_test/{cls}_10.npy\"\n",
    "    ]\n",
    "\n",
    "    for filename in filenames:\n",
    "        data = np.load(filename, allow_pickle=True)  # Utiliser allow_pickle=True si le fichier contient des objets Python\n",
    "        data = data.item()\n",
    "        melspec = data[\"melvec\"]  # Récupérer la matrice\n",
    "        fv = melspec.flatten()  # feature vector\n",
    "        fv = fv.astype(np.float64)\n",
    "        fv /= np.linalg.norm(fv)\n",
    "        X_test[index] = fv\n",
    "        index += 1\n",
    "\n",
    "# y_test = classes of the mel vectors so 3 * birds, 3 * chainsaw, 3 * handsaw, 3 * fire, 3 * helicopter\n",
    "y_test = np.array([\"birds\"] * 3 + [\"chainsaw\"] * 3 + [\"handsaw\"] * 3 + [\"fire\"] * 3 + [\"helicopter\"] * 3)\n",
    "\n",
    "# Evaluate the model\n",
    "accuracy = model.score(X_test, y_test)\n",
    "print(model.predict(X_test))\n",
    "print(f\"Test set accuracy: {accuracy * 100:.2f}%\")"
   ]
  },
  {
   "cell_type": "code",
   "execution_count": null,
   "metadata": {},
   "outputs": [],
   "source": []
  },
  {
   "cell_type": "code",
   "execution_count": null,
   "metadata": {},
   "outputs": [],
   "source": []
  },
  {
   "cell_type": "code",
   "execution_count": null,
   "metadata": {},
   "outputs": [],
   "source": []
  },
  {
   "cell_type": "code",
   "execution_count": null,
   "metadata": {},
   "outputs": [],
   "source": []
  },
  {
   "cell_type": "code",
   "execution_count": null,
   "metadata": {},
   "outputs": [],
   "source": []
  },
  {
   "cell_type": "code",
   "execution_count": null,
   "metadata": {},
   "outputs": [],
   "source": []
  },
  {
   "cell_type": "code",
   "execution_count": null,
   "metadata": {},
   "outputs": [],
   "source": []
  }
 ],
 "metadata": {
  "kernelspec": {
   "display_name": "Python 3 (ipykernel)",
   "language": "python",
   "name": "python3"
  },
  "language_info": {
   "codemirror_mode": {
    "name": "ipython",
    "version": 3
   },
   "file_extension": ".py",
   "mimetype": "text/x-python",
   "name": "python",
   "nbconvert_exporter": "python",
   "pygments_lexer": "ipython3",
   "version": "3.9.18"
  },
  "vscode": {
   "interpreter": {
    "hash": "46df200377d403be22c796785365123e6a374b5da08e8292e6b2afda659c5a28"
   }
  }
 },
 "nbformat": 4,
 "nbformat_minor": 4
}
