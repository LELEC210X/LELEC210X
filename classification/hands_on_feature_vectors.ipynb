{
 "cells": [
  {
   "cell_type": "markdown",
   "metadata": {},
   "source": [
    "# Hands-On 1: Audio Feature Extraction\n",
    "\n",
    "For this first hands-on session, we are going to investigate the extraction of audio features. This is the first step for designing a classification model (in future hands-on sessions). <br>\n",
    "As the recording of audio signals using a microphone will also be covered in a future hands-on session, we will start here by using sounds that we recorder for you. They have been placed in the `soundfiles` subdirectory.\n",
    "\n",
    "To ensure you are catching the content of this notebook, we leave you with an infinitesimal amount of **code to write**. \n",
    "\n",
    "You will find the zones to be briefly filled  with a `### TO COMPLETE` in the cells below."
   ]
  },
  {
   "cell_type": "code",
   "execution_count": null,
   "metadata": {},
   "outputs": [],
   "source": [
    "import librosa  # For audio signal computations as MFCC\n",
    "import matplotlib.pyplot as plt\n",
    "import numpy as np\n",
    "import sounddevice as sd\n",
    "import soundfile as sf\n",
    "from scipy import signal\n",
    "from scipy.fftpack import dct\n",
    "\n",
    "from classification.datasets import Dataset, get_cls_from_path\n",
    "from classification.utils.plots import plot_audio, plot_specgram"
   ]
  },
  {
   "cell_type": "markdown",
   "metadata": {},
   "source": [
    "We then create a matrix with path names of height H=5 classes and W=20 sounds per class. This will give you simple access to any sound from the dataset."
   ]
  },
  {
   "cell_type": "code",
   "execution_count": null,
   "metadata": {},
   "outputs": [],
   "source": [
    "dataset = Dataset()\n",
    "\n",
    "print(\"\\n\".join(dataset.list_classes()))"
   ]
  },
  {
   "cell_type": "markdown",
   "metadata": {},
   "source": [
    "You can now select a sound from a given class using ``dataset[class_name, sound_index]``. For example, the first sound of the ``chainsaw`` class is accessed with ``dataset[\"chainsaw\", 0]`` and the following cell plays the sound:"
   ]
  },
  {
   "cell_type": "code",
   "execution_count": null,
   "metadata": {},
   "outputs": [],
   "source": [
    "sound = dataset[\"fire\", 0]\n",
    "x, fs = sf.read(sound)\n",
    "target_dB = 25\n",
    "x /= np.linalg.norm(x) * 10 ** (-target_dB / 20)\n",
    "print(f'Playing a \"{get_cls_from_path(sound)}\"')\n",
    "sd.play(x, fs)"
   ]
  },
  {
   "cell_type": "markdown",
   "metadata": {},
   "source": [
    "We now ask you to complete the cells below."
   ]
  },
  {
   "cell_type": "markdown",
   "metadata": {},
   "source": [
    "## 1) Resampling and filtering\n",
    "\n",
    "Most probably your circuit board will sample the analog audio signal at a frequency $f_s = 11025$ Hz. <br>\n",
    "However, the audio provided in the dataset are sampled with $f_s = 44100$ Hz, you should thus downsample each audio signal to keep coherency with your real setup. There are 2 solutions:\n",
    "- Rewrite a new dataset with the downsampled audio signals.\n",
    "- Downsample each audio which is read.\n",
    "\n",
    "We provide you with the second one.\n",
    "\n",
    "***\n",
    "#### <u> The following derivations are not necessary for the rest of this notebook, but are still provided for the curious students... </u>\n",
    "\n",
    "Let us consider one original audio signal from the dataset and denote it $x[n]$, for $n=0,\\dots,N-1$.\n",
    "\n",
    "The downsampled signal $y$ can be written as \n",
    "\n",
    "$$\n",
    "    y[m] = w[mM],\\quad \\text{with}\\ w[k] = (h \\ast x)[k] = \\sum_{n=-\\infty}^{\\infty} h[n]x[k-n],\n",
    "$$\n",
    "\n",
    "where $h$ is a discrete low-pass filter and $M$ is the downsampling factor, here $M=4$. <br>\n",
    "\n",
    "We can expand both $y$ and $w$ according to their Fourier series (DTFT) $Y$ and $W$, respectively, so that:\n",
    "\n",
    "$$\n",
    "    y[m] = \\frac{1}{2\\pi} \\int_0^{2\\pi} Y(e^{j\\Omega}) e^{jm\\Omega} d\\Omega \\tag{1}\n",
    "$$\n",
    "$$\n",
    "    w[mM] = \\frac{1}{2\\pi} \\int_{0}^{2\\pi} W(e^{j\\Omega}) e^{jmM\\Omega} d\\Omega = \\frac{1}{2\\pi} \\sum_{k=0}^{M-1} \\int_{2\\pi k/M}^{2\\pi(k+1)/M} W(e^{j\\Omega}) e^{jmM\\Omega} d\\Omega \\tag{2}\n",
    "    $$\n",
    "\n",
    "Regarding $w$, applying the change of variable $\\Omega \\leftarrow \\Omega-2\\pi k/M$ to each integral of the sum, and changing $k \\leftarrow M - k$, we can further write\n",
    "\n",
    "$$\n",
    "   \\textstyle w[mM] = \\frac{1}{2\\pi} \\int_0^{2\\pi/M} \\sum_{k=0}^{M-1} W[e^{j(\\Omega - 2\\pi k/M)}] e^{jmM\\Omega} d\\Omega.\n",
    "$$\n",
    "\n",
    "\n",
    "With a final change of variable $\\Omega \\leftarrow M\\Omega$, we get\n",
    "$$\n",
    "    \\textstyle w[mM] = \\frac{1}{2\\pi} \\int_0^{2\\pi} \\frac{1}{M} \\sum_{k=0}^{M-1} W[e^{j(\\Omega - 2\\pi k)/M}] e^{jm\\Omega} d\\Omega.\n",
    "$$\n",
    "\n",
    "And by identifying (1) and (2), this yields:\n",
    "$$\n",
    "    Y(e^{j\\Omega}) = \\frac{1}{M} \\sum_{k=0}^{M-1} W[e^{j(\\Omega -2\\pi k)/M}]\n",
    "$$\n",
    "\n",
    "***\n",
    "\n",
    "In practice, here is the observed phenomenon when downsampling the spectrum above with factor $M=2$.\n",
    "\n",
    "<center> <img src=\"figs/downsampling.png\" alt=\"\"  width=\"600\" height=\"300\"/> </center>"
   ]
  },
  {
   "cell_type": "code",
   "execution_count": null,
   "metadata": {
    "scrolled": true
   },
   "outputs": [],
   "source": [
    "fs_down = 11025  # Target sampling frequency\n",
    "sound = dataset[\"birds\", 12]  # Sound choice (default should be Handsaw)\n",
    "\n",
    "print(\"Playing and showing data for : \", get_cls_from_path(sound))\n",
    "x, fs = sf.read(sound)\n",
    "\n",
    "\n",
    "M = fs // fs_down  # Downsampling factor\n",
    "print(\"Downsampling factor: \", M)\n",
    "\n",
    "### TO COMPLETE\n",
    "### Downsample \"audio\"\n",
    "x_naive_down = ...\n",
    "\n",
    "plot_audio(x, x_naive_down, fs, fs_down)  # Function call"
   ]
  },
  {
   "cell_type": "markdown",
   "metadata": {},
   "source": [
    "Is your downsampling working properly? What can you observe on the spectrum of the downsampled signal? How is this phenomenon named and what is its origin?\n",
    "\n",
    "In order to avoid it, the original signal should be low-pass filtered prior to downsampling (as presented in the mathematics above)."
   ]
  },
  {
   "cell_type": "code",
   "execution_count": null,
   "metadata": {},
   "outputs": [],
   "source": [
    "\"Low-pass filtering before downsampling\"\n",
    "N = 100  # number of taps\n",
    "taps = signal.firwin(numtaps=N, cutoff=fs_down / 2, window=\"hamming\", fs=fs)\n",
    "x_filt = np.convolve(x, taps, mode=\"full\")\n",
    "\n",
    "### TO COMPLETE\n",
    "### Downsample ``audio_filt``\n",
    "x_filt_down = ...\n",
    "\n",
    "plot_audio(x, x_filt_down, fs, fs_down)"
   ]
  },
  {
   "cell_type": "markdown",
   "metadata": {},
   "source": [
    "The obtained spectrum of the downsampled signal should not suffer from aliasing anymore. In fact, there is a built-in function in ``scipy.signal`` that performs the downsampling, including a low-pass filter: ``scipy.signal.resample``. Its docstring is:"
   ]
  },
  {
   "cell_type": "code",
   "execution_count": null,
   "metadata": {},
   "outputs": [],
   "source": [
    "help(signal.resample)"
   ]
  },
  {
   "cell_type": "markdown",
   "metadata": {},
   "source": [
    "In the following, we use this function."
   ]
  },
  {
   "cell_type": "code",
   "execution_count": null,
   "metadata": {},
   "outputs": [],
   "source": [
    "y = signal.resample(x, int(len(x) / M))\n",
    "L = len(y)\n",
    "\n",
    "plot_audio(x, y, fs, fs_down)"
   ]
  },
  {
   "cell_type": "markdown",
   "metadata": {},
   "source": [
    "Can you hear the differences between the downsampled versions of the audio signal and the original one?"
   ]
  },
  {
   "cell_type": "code",
   "execution_count": null,
   "metadata": {},
   "outputs": [],
   "source": [
    "target_dB = 25\n",
    "x /= np.linalg.norm(x) * 10 ** (-target_dB / 20)\n",
    "sd.play(x, fs, blocksize=1024)\n",
    "# sd.play(x_naive_down, fs_down, blocksize=1024)\n",
    "# sd.play(x_filt_down, fs_down, blocksize=1024)\n",
    "# sd.play(y, fs_down, blocksize=1024)"
   ]
  },
  {
   "cell_type": "markdown",
   "metadata": {},
   "source": [
    "You can also try sounds from different classes by running again the code above and changing the choice of the variable ``sound``. Maybe you will notice there are two *original* and two *downsampled* signals shown. Can you guess why you have two signals? How to deal with this?\n",
    "\n",
    "Now we are working with sound signals with same sampling frequency as for the project, we can go on."
   ]
  },
  {
   "cell_type": "markdown",
   "metadata": {},
   "source": [
    "## 2) Windowing and spectrogram computation\n",
    "\n",
    "A very intuitive way to represent an audio signal is with a time-frequency analysis. \n",
    "The spectrogram of a signal consists in applying an FFT on successive subpieces of it, and thus obtaining a spectral content evolving with time.\n",
    "\n",
    "Find an illustration of the idea here below.\n",
    "\n",
    "<center> <img src=\"figs/sound2fv.svg\" alt=\"\" height=\"500\"/> </center>"
   ]
  },
  {
   "cell_type": "code",
   "execution_count": null,
   "metadata": {},
   "outputs": [],
   "source": [
    "Nft = 512  # Number of samples by FFT\n",
    "\n",
    "# Homemade computation of stft\n",
    "\"Crop the signal such that its length is a multiple of Nft\"\n",
    "y = y[: L - L % Nft]\n",
    "L = len(y)\n",
    "\"Reshape the signal with a piece for each row\"\n",
    "audiomat = np.reshape(y, (L // Nft, Nft))\n",
    "audioham = audiomat * np.hamming(Nft)  # Windowing. Hamming, Hanning, Blackman,..\n",
    "z = np.reshape(audioham, -1)  # y windowed by pieces\n",
    "\"FFT row by row\"\n",
    "stft = np.fft.fft(audioham, axis=1)\n",
    "stft = np.abs(\n",
    "    stft[:, : Nft // 2].T\n",
    ")  # Taking only positive frequencies and computing the magnitude\n",
    "\n",
    "\"Library Librosa computing stft\"\n",
    "stft2 = librosa.stft(\n",
    "    x, n_fft=Nft, hop_length=Nft, window=\"hamm\", center=\"False\"\n",
    ")  # without downsampling the signal\n",
    "stft4 = np.abs(librosa.stft(z, n_fft=Nft, hop_length=Nft, window=\"rect\", center=False))\n",
    "\n",
    "print(\n",
    "    'Note: You can eventually add a \"+1\" in the \"np.log\" to get positive dB. This will look differently.'\n",
    ")\n",
    "\n",
    "\"Plots\"\n",
    "fig = plt.figure(figsize=(9, 3))\n",
    "ax1 = fig.add_axes([0.0, 0.0, 0.42, 0.9])\n",
    "ax2 = fig.add_axes([0.54, 0.0, 0.42, 0.9])\n",
    "\n",
    "ax1.plot(np.arange(L) / fs_down, y, \"b\", label=\"Original\")\n",
    "ax1.plot(np.arange(L) / fs_down, z, \"r\", label=\"Hamming windowed by pieces\")\n",
    "ax1.set_xlabel(\"Time [s]\")\n",
    "ax1.legend()\n",
    "\n",
    "plot_specgram(\n",
    "    np.log(np.abs(stft2)),\n",
    "    ax2,\n",
    "    title=\"Specgram obtained with librosa.stft (full signal)\",\n",
    "    tf=len(x) / fs,\n",
    ")\n",
    "plt.show()\n",
    "\n",
    "\"Comparing the spectrograms\"\n",
    "fig2 = plt.figure(figsize=(12, 3))\n",
    "ax3 = fig2.add_axes([0.0, 0.0, 0.28, 0.9])\n",
    "ax4 = fig2.add_axes([0.34, 0.0, 0.28, 0.9])\n",
    "ax5 = fig2.add_axes([0.68, 0.0, 0.28, 0.9])\n",
    "plot_specgram(np.log(np.abs(stft)), ax3, title=\"Homemade specgram\", tf=len(y) / fs_down)\n",
    "plot_specgram(\n",
    "    np.log(np.abs(stft4)),\n",
    "    ax4,\n",
    "    title=\"Specgram obtained with librosa.stft\",\n",
    "    tf=len(y) / fs_down,\n",
    ")\n",
    "plot_specgram(\n",
    "    np.log(np.abs(stft - stft4[:-1, :])), ax5, title=\"Difference\", tf=len(y) / fs_down\n",
    ")\n",
    "plt.show()"
   ]
  },
  {
   "cell_type": "markdown",
   "metadata": {},
   "source": [
    "What differences can you notice between the upper spectrogram and the two others at the bottom?\n",
    "\n",
    "<u> Remark:</u> The motivation for having a homemade version of the spectrogram is that in practice these computations will be embedded in the Nucleo board (the transmitter) and coded in C with fixed-point representation. Thus, as your classification model will be trained on feature vectors computed in Python but evaluated on feature vectors computed in C, it's crucial to know what are the exact steps followed for the signal transformation, to have these steps implementable in C, and to ensure they are the same."
   ]
  },
  {
   "cell_type": "markdown",
   "metadata": {},
   "source": [
    "## 3) From Hz to Melspectrogram\n",
    "\n",
    "Now we have done the major part of the job. But recall that this information will have to be transmitted wirelessly from your circuit board (transmitter) to a base station (receiver). It is thus good practive to try synthetizing a bit the content of this spectrogram. <br>\n",
    "\n",
    "A popular approach is to transform the frequency axis from Hz to Mel unit. The intuition behind this transformation is that the human ear will more easily distinguish between $100$ and $200$ Hz than between $3000$ and $3100$ Hz. So higher frequencies are more likely to be put together in very fewer coefficients. <br>\n",
    "\n",
    "This last step will thus consist in replacing each column of the spectrogram ``stft`` with size $N_{FT}$ by a shorter column with size $N_{mel} \\ll N_{FT}$. To do so, we will use an Hz to Mel (``Hz2Mel``) transformation matrix provided by ``librosa``, and apply a matrix multiplication for each column."
   ]
  },
  {
   "cell_type": "code",
   "execution_count": null,
   "metadata": {},
   "outputs": [],
   "source": [
    "Nmel = 20\n",
    "\n",
    "\"Obtain the Hz2Mel transformation matrix\"\n",
    "mels = librosa.filters.mel(sr=fs_down, n_fft=Nft, n_mels=Nmel)\n",
    "mels = mels[:, :-1]\n",
    "\n",
    "### TO COMPLETE\n",
    "### Normalize the mels matrix such that its maximum value is one.\n",
    "mels = mels\n",
    "\n",
    "\"Plot\"\n",
    "plt.figure(figsize=(5, 4))\n",
    "plt.imshow(mels, aspect=\"auto\", origin=\"lower\")\n",
    "plt.colorbar()\n",
    "plt.title(\"Hz2Mel transformation matrix\")\n",
    "plt.xlabel(\"$N_{FT}$\")\n",
    "plt.ylabel(\"$N_{Mel}$\")\n",
    "plt.show()"
   ]
  },
  {
   "cell_type": "code",
   "execution_count": null,
   "metadata": {},
   "outputs": [],
   "source": [
    "\"Melspectrogram computation\"\n",
    "### TO COMPLETE\n",
    "###  Perform the matrix multiplication between the Hz2Mel matrix and stft.\n",
    "melspec = ...\n",
    "\n",
    "\"Plot\"\n",
    "fig = plt.figure(figsize=(9, 3))\n",
    "ax1 = fig.add_axes([0.0, 0.0, 0.42, 0.9])\n",
    "ax2 = fig.add_axes([0.54, 0.0, 0.42, 0.9])\n",
    "plot_specgram(np.log(np.abs(stft)), ax=ax1, title=\"Specgram\", tf=len(y) / fs_down)\n",
    "plot_specgram(\n",
    "    np.log(np.abs(melspec)),\n",
    "    ax=ax2,\n",
    "    is_mel=True,\n",
    "    title=\"Melspecgram\",\n",
    "    tf=len(y) / fs_down,\n",
    ")\n",
    "plt.show()"
   ]
  },
  {
   "cell_type": "markdown",
   "metadata": {},
   "source": [
    "Do these two spectrogram look similar? :) <br> \n",
    "What is the gain in the number of coefficients?"
   ]
  },
  {
   "cell_type": "markdown",
   "metadata": {},
   "source": [
    "## 4) Creating black boxes\n",
    "\n",
    "Now you have seen how to make the computations. <br>\n",
    "A universal procedure consists in writing functions that will serve as working blocks and hide the computation details.\n",
    "We can then gradually increase the abstraction. <br>\n",
    "\n",
    "As any programmer should do, you are strongly encourage to ``fill your functions with a clear and concise docstring``. This will help you later this year when you will want to make improvements to some parts of your code. <br>\n",
    "\n",
    "**Remark**: In any hands-on session you will work on during this semester, you will be provided with some already implemented code to exploit for processing and visualisation.\n",
    "The implemented code will sometimes have been written by the teaching staff in the most readable and modular way possible. However, this may happen you want to add some features or simply modify some functions. Feel free to do so. In general, you can modify anything as you wish. Even the Python packages!"
   ]
  },
  {
   "cell_type": "code",
   "execution_count": null,
   "metadata": {},
   "outputs": [],
   "source": [
    "def resample(x, M=4):\n",
    "    \"\"\"description\n",
    "\n",
    "    Args:\n",
    "      x (type): description\n",
    "      M (type): description\n",
    "\n",
    "    Returns:\n",
    "      y (type): description\n",
    "    \"\"\"\n",
    "\n",
    "    ### TO COMPLETE\n",
    "    return 0\n",
    "\n",
    "\n",
    "def specgram(y, Nft=512):\n",
    "    \"\"\"description\n",
    "\n",
    "    Args:\n",
    "      y (type): description\n",
    "      Nft (type): description\n",
    "\n",
    "    Returns:\n",
    "      stft (type): description\n",
    "    \"\"\"\n",
    "\n",
    "    ### TO COMPLETE\n",
    "\n",
    "    return stft\n",
    "\n",
    "\n",
    "def melspecgram(x, Nmel=20, Nft=512, fs=44100, fs_down=11025):\n",
    "    \"\"\"description\n",
    "\n",
    "    Args:\n",
    "      x (type): description\n",
    "      Nmel (type): description\n",
    "      Nft (type): description\n",
    "      fs (type): description\n",
    "      fs_down (type): description\n",
    "\n",
    "    Returns:\n",
    "      melspec (type): description\n",
    "    \"\"\"\n",
    "\n",
    "    ### TO COMPLETE, using the functions resample() and specgram() defined above\n",
    "\n",
    "    return melspec"
   ]
  },
  {
   "cell_type": "markdown",
   "metadata": {},
   "source": [
    "## 5) Show us your skills\n",
    "You are now encouraged to apply the functions you created above to sounds from at least 3 different classes. Observe their spectrograms and comment. Is it easy to differentiate sounds from the classes you chose?"
   ]
  },
  {
   "cell_type": "code",
   "execution_count": null,
   "metadata": {},
   "outputs": [],
   "source": [
    "### TO COMPLETE\n",
    "### Choose 3 sounds from different classes to observe how their mel spectrograms differ\n",
    "sound1 = ...\n",
    "sound2 = ...\n",
    "sound3 = ...\n",
    "\n",
    "\"Compute the melspecgrams\"\n",
    "x1, _ = sf.read(sound1)\n",
    "x2, _ = sf.read(sound2)\n",
    "x3, _ = sf.read(sound3)\n",
    "melspec1 = melspecgram(x1)\n",
    "melspec2 = melspecgram(x2)\n",
    "melspec3 = melspecgram(x3)\n",
    "\n",
    "print('Note: Notice that here we added the \"+1\" for the visualization!')\n",
    "\n",
    "\"Plot\"\n",
    "fig = plt.figure(figsize=(12, 3))\n",
    "ax1 = fig.add_axes([0.0, 0.0, 0.28, 0.9])\n",
    "ax2 = fig.add_axes([0.33, 0.0, 0.28, 0.9])\n",
    "ax3 = fig.add_axes([0.66, 0.0, 0.28, 0.9])\n",
    "plot_specgram(\n",
    "    melspec1, ax=ax1, is_mel=True, title=get_cls_from_path(sound1), tf=len(y) / fs_down\n",
    ")\n",
    "plot_specgram(\n",
    "    melspec2, ax=ax2, is_mel=True, title=get_cls_from_path(sound2), tf=len(y) / fs_down\n",
    ")\n",
    "plot_specgram(\n",
    "    melspec3, ax=ax3, is_mel=True, title=get_cls_from_path(sound3), tf=len(y) / fs_down\n",
    ")\n",
    "plt.show()"
   ]
  },
  {
   "cell_type": "markdown",
   "metadata": {},
   "source": [
    "### Question:\n",
    "Briefly comment what is intuitive for you in the content of these 3 spectrograms respectively with the corresponding classes.\n",
    "How can you differentiate them?"
   ]
  },
  {
   "cell_type": "code",
   "execution_count": null,
   "metadata": {},
   "outputs": [],
   "source": [
    "### TO COMPLETE\n",
    "# Answer the questions above"
   ]
  }
 ],
 "metadata": {
  "kernelspec": {
   "display_name": "base",
   "language": "python",
   "name": "python3"
  },
  "language_info": {
   "codemirror_mode": {
    "name": "ipython",
    "version": 3
   },
   "file_extension": ".py",
   "mimetype": "text/x-python",
   "name": "python",
   "nbconvert_exporter": "python",
   "pygments_lexer": "ipython3",
   "version": "3.8.8"
  }
 },
 "nbformat": 4,
 "nbformat_minor": 4
}
